{
 "cells": [
  {
   "cell_type": "code",
   "execution_count": 22,
   "metadata": {
    "collapsed": false
   },
   "outputs": [],
   "source": [
    "import numpy as np\n",
    "import pandas as pd\n",
    "import csv\n",
    "from scipy.stats import kruskal,mannwhitneyu"
   ]
  },
  {
   "cell_type": "code",
   "execution_count": 2,
   "metadata": {
    "collapsed": true
   },
   "outputs": [],
   "source": [
    "def soft_max (x):\n",
    "    return np.exp(x) / np.sum(np.exp(x), axis=0)"
   ]
  },
  {
   "cell_type": "code",
   "execution_count": 6,
   "metadata": {
    "collapsed": false
   },
   "outputs": [
    {
     "name": "stdout",
     "output_type": "stream",
     "text": [
      "['Timestamp', 'Please rank the following (No repeat ranks, must rank each row) [Production Budget]', 'Please rank the following (No repeat ranks, must rank each row) [Producer]', 'Please rank the following (No repeat ranks, must rank each row) [Average Critic Score (Rotten Tomatoes)]', 'Please rank the following (No repeat ranks, must rank each row) [IMDB Rating]', 'Please rank the following (No repeat ranks, must rank each row) [IMDB Votes]', 'Please rank the following (No repeat ranks, must rank each row) [Average Audience Score (Rotten Tomatoes)]', 'Please rank the following (No repeat ranks, must rank each row) [Return on Investment]', 'Please rank the following (No repeat ranks, must rank each row) [Worldwide Gross]', 'How much do you enjoy researching movies, such as browsing IMDB, Wikipedia pages, and looking up actors?', 'How much do you enjoy watching movies?', 'How often do you watch the Oscars or similar movie award shows?', 'What is your current age?', 'Are you currently attending University?']\n"
     ]
    }
   ],
   "source": [
    "datacsv = open(\"../General Survey.csv\")\n",
    "reader = list(csv.reader(datacsv, delimiter=',', quotechar='\"'))\n",
    "fields = [x.strip() for x in reader.pop(0)]\n",
    "print(fields)"
   ]
  },
  {
   "cell_type": "code",
   "execution_count": 7,
   "metadata": {
    "collapsed": false
   },
   "outputs": [],
   "source": [
    "reader = [[cell.split(\"(\")[0].strip() for cell in col]for col in reader]"
   ]
  },
  {
   "cell_type": "code",
   "execution_count": 12,
   "metadata": {
    "collapsed": false
   },
   "outputs": [
    {
     "name": "stdout",
     "output_type": "stream",
     "text": [
      "['Production Budget', 'Average Critic Score ', 'IMDB Rating', 'IMDB Votes', 'Average Audience Score ', 'Return on Investment', 'Worldwide Gross']\n",
      "Soft Max Values\n",
      "Worldwide Gross: 0.167137582418\n",
      "Return on Investment: 0.0607032238123\n",
      "Production Budget: 0.0336580824017\n",
      "IMDB Votes: 0.0209448803779\n",
      "IMDB Rating: 0.101374068127\n",
      "Average Critic Score : 0.557769349727\n",
      "Average Audience Score : 0.0584128131355\n"
     ]
    }
   ],
   "source": [
    "ratings = pd.DataFrame(reader).values[:,1:-5].astype(int)\n",
    "ratings = ratings.T\n",
    "ratings = np.delete(ratings,1,axis=0) # removing producer\n",
    "trimmed_fields = [x.split(\"[\")[1].split(\"]\")[0].strip().split('(')[0] for x in fields[1:-5]]\n",
    "trimmed_fields.pop(1) # removing producer\n",
    "print(trimmed_fields)\n",
    "means = [x.mean() for x in ratings]\n",
    "# print(means)\n",
    "\n",
    "softs = soft_max(means)\n",
    "print(\"Soft Max Values\")\n",
    "zipped = [[f,v]for f,v in zip(trimmed_fields,softs)]\n",
    "zipped.sort(key=lambda x: x[0], reverse=True)\n",
    "for f,v in zipped:\n",
    "    print(\"%s: %s\" % (f,v))"
   ]
  },
  {
   "cell_type": "code",
   "execution_count": 13,
   "metadata": {
    "collapsed": false
   },
   "outputs": [
    {
     "name": "stdout",
     "output_type": "stream",
     "text": [
      "Worldwide Gross: 0.14675816645915077\n",
      "Return on Investment: 0.2805318966523604\n",
      "Production Budget: 0.05559253199638893\n",
      "IMDB Votes: 0.2865382361658364\n",
      "IMDB Rating: 0.05182904390551388\n",
      "Average Critic Score: 0.130111639147387\n",
      "Average Audience Score: 0.04863848567336266\n"
     ]
    }
   ],
   "source": [
    "logregcoefs = [['IMDB Rating', -0.34300168957186966], ['IMDB Votes', 1.3669196119522085], ['Average Critic Score', 0.57744046973782626], ['Average Audience Score', -0.40653727105115345], ['Production Budget', -0.27290349924072632], ['Worldwide Gross', 0.69783373108027336], ['Return on Investment', 1.3457350571892375]]\n",
    "logregcoefs = np.array(logregcoefs)\n",
    "logregcoefs[:,1] = soft_max(logregcoefs[:,1].astype(float))\n",
    "logregcoefs = logregcoefs.tolist()\n",
    "logregcoefs.sort(key=lambda x: x[0], reverse=True)\n",
    "for f,v in logregcoefs:\n",
    "    print(\"%s: %s\" % (f,v))"
   ]
  },
  {
   "cell_type": "code",
   "execution_count": 29,
   "metadata": {
    "collapsed": false
   },
   "outputs": [
    {
     "name": "stdout",
     "output_type": "stream",
     "text": [
      "KruskalResult(statistic=0.19999999999999574, pvalue=0.65472084601858027)\n"
     ]
    }
   ],
   "source": [
    "zipped1 = [z[1] for z in zipped] # get just the values\n",
    "logreg1 = [float(l[1]) for l in logregcoefs]\n",
    "# print(zipped1)\n",
    "# print(logreg1)\n",
    "\n",
    "test = kruskal(np.array(zipped1),np.array(logreg1))\n",
    "test2 = mannwhitneyu(np.array(zipped1),np.array(logreg1))\n",
    "print(test)\n"
   ]
  },
  {
   "cell_type": "code",
   "execution_count": null,
   "metadata": {
    "collapsed": true
   },
   "outputs": [],
   "source": []
  }
 ],
 "metadata": {
  "anaconda-cloud": {},
  "kernelspec": {
   "display_name": "Python [default]",
   "language": "python",
   "name": "python3"
  },
  "language_info": {
   "codemirror_mode": {
    "name": "ipython",
    "version": 3
   },
   "file_extension": ".py",
   "mimetype": "text/x-python",
   "name": "python",
   "nbconvert_exporter": "python",
   "pygments_lexer": "ipython3",
   "version": "3.5.2"
  }
 },
 "nbformat": 4,
 "nbformat_minor": 1
}
