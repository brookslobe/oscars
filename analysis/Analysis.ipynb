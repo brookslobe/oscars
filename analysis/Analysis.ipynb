{
 "cells": [
  {
   "cell_type": "code",
   "execution_count": 68,
   "metadata": {
    "collapsed": true
   },
   "outputs": [],
   "source": [
    "import numpy as np\n",
    "import pandas as pd\n",
    "import csv"
   ]
  },
  {
   "cell_type": "code",
   "execution_count": 69,
   "metadata": {
    "collapsed": true
   },
   "outputs": [],
   "source": [
    "def soft_max (x):\n",
    "    return np.exp(x) / np.sum(np.exp(x), axis=0)"
   ]
  },
  {
   "cell_type": "code",
   "execution_count": 101,
   "metadata": {
    "collapsed": false
   },
   "outputs": [
    {
     "name": "stdout",
     "output_type": "stream",
     "text": [
      "['Timestamp', 'Please rank the following (No repeat ranks, must rank each row) [Budget]', 'Please rank the following (No repeat ranks, must rank each row) [Producer]', 'Please rank the following (No repeat ranks, must rank each row) [Average Critic score (Rotten Tomatoes)]', 'Please rank the following (No repeat ranks, must rank each row) [IMDB Rating]', 'Please rank the following (No repeat ranks, must rank each row) [Number of IMDB ratings]', 'Please rank the following (No repeat ranks, must rank each row) [Average User Score (Rotten Tomatoes)]', 'Please rank the following (No repeat ranks, must rank each row) [Profit ratio]', 'Please rank the following (No repeat ranks, must rank each row) [Total Box office sales]', 'How much do you enjoy researching movies, such as browsing IMDB, Wikipedia pages, and looking up actors?', 'How much do you enjoy watching movies?', 'How often do you watch the Oscars or similar movie award shows?', 'What is your current age?', 'Are you currently attending University?']\n"
     ]
    }
   ],
   "source": [
    "datacsv = open(\"../General Survey.csv\")\n",
    "reader = list(csv.reader(datacsv, delimiter=',', quotechar='\"'))\n",
    "fields = [x.strip() for x in reader.pop(0)]\n",
    "print(fields)"
   ]
  },
  {
   "cell_type": "code",
   "execution_count": 102,
   "metadata": {
    "collapsed": false
   },
   "outputs": [],
   "source": [
    "reader = [[cell.split(\"(\")[0].strip() for cell in col]for col in reader]"
   ]
  },
  {
   "cell_type": "code",
   "execution_count": 103,
   "metadata": {
    "collapsed": false
   },
   "outputs": [
    {
     "name": "stdout",
     "output_type": "stream",
     "text": [
      "[2 4 8 8 7 6 2 8 1 5 8 5 7 7 2 7 7 8 3 6 6 8 1 7 8 7 7 1 7 8 8 7 8 5 8 7 1\n",
      " 2 3 1 7 7 8 8 6 7 6 7 6 6 7 3 8 7 6 3 8 7 6 2 2 7 5 8 6 4 7 5 3 8 4 6 6 7\n",
      " 3 6 5 5]\n",
      "[8 7 7 5 8 8 8 7 8 8 7 6 8 8 5 8 3 1 6 8 3 7 7 8 5 6 2 3 3 3 7 8 7 8 4 8 7\n",
      " 8 7 8 2 5 7 7 8 8 4 4 8 8 4 7 3 8 2 8 6 6 3 6 8 8 3 7 8 8 2 8 8 4 8 7 8 3\n",
      " 7 8 8 8]\n",
      "['Budget', 'Average Critic score (Rotten Tomatoes)', 'IMDB Rating', 'Number of IMDB ratings', 'Average User Score (Rotten Tomatoes)', 'Profit ratio', 'Total Box office sales']\n",
      "Soft Max Values\n",
      "Average Critic score (Rotten Tomatoes): 0.557769349727\n",
      "Total Box office sales: 0.167137582418\n",
      "IMDB Rating: 0.101374068127\n",
      "Profit ratio: 0.0607032238123\n",
      "Average User Score (Rotten Tomatoes): 0.0584128131355\n",
      "Budget: 0.0336580824017\n",
      "Number of IMDB ratings: 0.0209448803779\n"
     ]
    }
   ],
   "source": [
    "ratings = pd.DataFrame(reader).values[:,1:-5].astype(int)\n",
    "ratings = ratings.T\n",
    "ratings = np.delete(ratings,1,axis=0) # removing producer\n",
    "trimmed_fields = [x.split(\"[\")[1].split(\"]\")[0].strip() for x in fields[1:-5]]\n",
    "trimmed_fields.pop(1) # removing producer\n",
    "print(trimmed_fields)\n",
    "means = [x.mean() for x in ratings]\n",
    "# print(means)\n",
    "\n",
    "softs = soft_max(means)\n",
    "print(\"Soft Max Values\")\n",
    "zipped = [[f,v]for f,v in zip(trimmed_fields,softs)]\n",
    "zipped.sort(key=lambda x: x[1], reverse=True)\n",
    "for f,v in zipped:\n",
    "    print(\"%s: %s\" % (f,v))"
   ]
  },
  {
   "cell_type": "code",
   "execution_count": 83,
   "metadata": {
    "collapsed": false
   },
   "outputs": [
    {
     "name": "stdout",
     "output_type": "stream",
     "text": [
      "IMDB Votes: 0.2865382361658364\n",
      "Return on Investment: 0.2805318966523604\n",
      "Worldwide Gross: 0.14675816645915077\n",
      "Average Critic Score: 0.130111639147387\n",
      "Production Budget: 0.05559253199638893\n",
      "IMDB Rating: 0.05182904390551388\n",
      "Average Audience Score: 0.04863848567336266\n"
     ]
    }
   ],
   "source": [
    "logregcoefs = [['IMDB Rating', -0.34300168957186966], ['IMDB Votes', 1.3669196119522085], ['Average Critic Score', 0.57744046973782626], ['Average Audience Score', -0.40653727105115345], ['Production Budget', -0.27290349924072632], ['Worldwide Gross', 0.69783373108027336], ['Return on Investment', 1.3457350571892375]]\n",
    "logregcoefs = np.array(logregcoefs)\n",
    "logregcoefs[:,1] = soft_max(logregcoefs[:,1].astype(float))\n",
    "logregcoefs = logregcoefs.tolist()\n",
    "logregcoefs.sort(key=lambda x: x[1], reverse=True)\n",
    "for f,v in logregcoefs:\n",
    "    print(\"%s: %s\" % (f,v))"
   ]
  },
  {
   "cell_type": "code",
   "execution_count": null,
   "metadata": {
    "collapsed": true
   },
   "outputs": [],
   "source": []
  }
 ],
 "metadata": {
  "anaconda-cloud": {},
  "kernelspec": {
   "display_name": "Python [default]",
   "language": "python",
   "name": "python3"
  },
  "language_info": {
   "codemirror_mode": {
    "name": "ipython",
    "version": 3
   },
   "file_extension": ".py",
   "mimetype": "text/x-python",
   "name": "python",
   "nbconvert_exporter": "python",
   "pygments_lexer": "ipython3",
   "version": "3.5.2"
  }
 },
 "nbformat": 4,
 "nbformat_minor": 1
}
