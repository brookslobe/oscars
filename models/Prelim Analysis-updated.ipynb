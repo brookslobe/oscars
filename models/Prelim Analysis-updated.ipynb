{
 "cells": [
  {
   "cell_type": "code",
   "execution_count": 77,
   "metadata": {
    "collapsed": false
   },
   "outputs": [
    {
     "name": "stdout",
     "output_type": "stream",
     "text": [
      "/var/www/Repositories/oscars/models\n"
     ]
    }
   ],
   "source": [
    "import pandas as pd\n",
    "import numpy as np\n",
    "from bs4 import BeautifulSoup as bs\n",
    "from urllib import request as rq\n",
    "import urllib\n",
    "import re\n",
    "import math\n",
    "import os\n",
    "import csv\n",
    "import time\n",
    "import json\n",
    "import pickle\n",
    "import sys\n",
    "import requests\n",
    "from scipy import stats\n",
    "from math import log\n",
    "\n",
    "from sklearn.cross_decomposition import PLSRegression\n",
    "from sklearn import linear_model\n",
    "from sklearn.metrics import f1_score, precision_score, recall_score\n",
    "import matplotlib.pyplot as plt\n",
    "cwd = os.getcwd()\n",
    "print(cwd)"
   ]
  },
  {
   "cell_type": "code",
   "execution_count": 96,
   "metadata": {
    "collapsed": false,
    "scrolled": true
   },
   "outputs": [
    {
     "name": "stdout",
     "output_type": "stream",
     "text": [
      "['year', 'Academy Award', 'Winner', 'Movie Name', 'Producer', 'IMDB Rating', 'IMDB Votes', 'Tomatometer', 'Average Critic Score', 'Percent Audience Liked', 'Average Audience Score']\n"
     ]
    },
    {
     "data": {
      "text/plain": [
       "LogisticRegression(C=1.0, class_weight=None, dual=False, fit_intercept=True,\n",
       "          intercept_scaling=1, max_iter=100, multi_class='ovr', n_jobs=1,\n",
       "          penalty='l2', random_state=None, solver='liblinear', tol=0.0001,\n",
       "          verbose=0, warm_start=False)"
      ]
     },
     "execution_count": 96,
     "metadata": {},
     "output_type": "execute_result"
    }
   ],
   "source": [
    "# use AA_bestpictures_Liam_Kimiko_clean.csv\n",
    "datacsv = open(\"../AA_bestpictures_Liam_Kimiko_clean.csv\")\n",
    "reader = list(csv.reader(datacsv, delimiter=',', quotechar='\"'))\n",
    "\n",
    "# print(list(reader))\n",
    "fields = [x.strip() for x in reader.pop(0)]\n",
    "\n",
    "frame = pd.DataFrame(reader, columns=fields)\n",
    "print(fields)\n",
    "X = [[float(x[5].strip()),int(x[6].strip()),int(x[7].strip()),float(x[8].strip()),int(x[9].strip()),float(x[10].strip())] for x in reader]\n",
    "Y = []\n",
    "\n",
    "X = np.array(X).T\n",
    "X[1] = np.log(X[1])\n",
    "X[2] = np.log(np.sqrt(100-X[2]+1)+.01)\n",
    "\n",
    "# X[3] = np.log(np.sqrt(10-X[3]+.01)+.01)\n",
    "# X[5] = np.log(np.sqrt(10-X[5]+.01)+.01)\n",
    "\n",
    "X[4] = np.log(np.sqrt(100-X[4]+1)+.01)\n",
    "\n",
    "# X = np.array([(row - row.min()) / (row.max()-row.min()) for row in X])\n",
    "# X[1] = (X[1] - X[1].min()) / (X[1].max()-X[1].min())\n",
    "# print(X[0])\n",
    "X = X.T\n",
    "X = list(X)\n",
    "for x in reader:\n",
    "    ret = 0\n",
    "    if x[2].strip() == \"True\":\n",
    "        ret = 1\n",
    "    Y.append(ret)\n",
    "# for row in reader:\n",
    "#     print (row)\n",
    "\n",
    "XTest = X[-100:]\n",
    "YTest = Y[-100:]\n",
    "XTrain = X[:-100]\n",
    "YTrain = Y[:-100]\n",
    "logreg = linear_model.LogisticRegression()\n",
    "logreg.fit(XTrain, YTrain)\n",
    "\n",
    "# pls = PLSRegression(n_components=3, max_iter=30000)\n",
    "# pls.fit(inputs,outputs)\n",
    "# pred = pls.predict(inputs)\n",
    "# pls.score(inputs,outputs)\n",
    "# # pls.get_params()"
   ]
  },
  {
   "cell_type": "code",
   "execution_count": 97,
   "metadata": {
    "collapsed": false
   },
   "outputs": [
    {
     "data": {
      "text/plain": [
       "DescribeResult(nobs=512, minmax=(array([ 3.1       ,  1.60943791,  0.00995033,  3.6       ,  0.55506304,\n",
       "        5.4       ]), array([ 10.        ,  14.35974001,   2.25095837,   9.5       ,\n",
       "         2.21649889,   9.        ])), mean=array([ 7.55722656,  9.51344901,  1.07810535,  7.70117187,  1.42044225,\n",
       "        7.51835937]), variance=array([ 0.51204161,  7.71263224,  0.29045846,  0.84489099,  0.08613218,\n",
       "        0.38197147]), skewness=array([-1.67949751, -0.852585  , -0.54791668, -0.83171907,  0.1084179 ,\n",
       "       -0.53055206]), kurtosis=array([ 7.69090486,  0.5991322 , -0.22263343,  1.10075016, -0.0271461 ,\n",
       "        0.25257676]))"
      ]
     },
     "execution_count": 97,
     "metadata": {},
     "output_type": "execute_result"
    }
   ],
   "source": [
    "# print(StatsOnly)\n",
    "stats.describe(X)"
   ]
  },
  {
   "cell_type": "code",
   "execution_count": 98,
   "metadata": {
    "collapsed": false
   },
   "outputs": [
    {
     "name": "stdout",
     "output_type": "stream",
     "text": [
      "Our regression has an accuracy of 85.0%\n",
      "[0, 0, 0, 1, 0, 1, 0, 0, 0, 0, 1, 0, 0, 0, 0, 1, 0, 0, 0, 0, 0, 0, 1, 0, 0, 0, 0, 1, 0, 0, 0, 1, 0, 0, 0, 0, 0, 0, 1, 0, 0, 0, 0, 0, 1, 0, 0, 0, 0, 1, 0, 0, 0, 0, 0, 0, 0, 0, 0, 1, 0, 0, 0, 0, 0, 1, 0, 0, 0, 0, 0, 0, 0, 0, 0, 1, 0, 0, 0, 0, 0, 0, 0, 0, 0, 0, 0, 0, 0, 0, 1, 0, 0, 1, 0, 0, 0, 0, 0, 0]\n",
      "[0 0 0 0 0 0 0 0 0 0 0 0 0 0 0 0 0 0 0 0 0 0 0 0 0 0 0 0 0 0 0 0 0 0 0 0 0\n",
      " 0 0 0 0 0 0 0 0 0 0 0 0 0 0 0 0 0 0 0 0 0 0 0 0 0 0 0 0 0 0 0 0 0 0 0 0 0\n",
      " 0 0 0 0 0 0 0 0 0 0 0 0 0 0 0 0 0 0 0 0 0 0 0 0 0 0]\n",
      "15\n",
      "85\n",
      "We predict winners with an accuracy of 0.0%\n",
      "F-score: 0.0 | Precision: 0.0 | Recall: 0.0\n"
     ]
    },
    {
     "name": "stderr",
     "output_type": "stream",
     "text": [
      "/home/liam/anaconda3/lib/python3.5/site-packages/sklearn/metrics/classification.py:1115: UndefinedMetricWarning: F-score is ill-defined and being set to 0.0 due to no true samples.\n",
      "  'recall', 'true', average, warn_for)\n",
      "/home/liam/anaconda3/lib/python3.5/site-packages/sklearn/metrics/classification.py:1115: UndefinedMetricWarning: Recall is ill-defined and being set to 0.0 due to no true samples.\n",
      "  'recall', 'true', average, warn_for)\n"
     ]
    }
   ],
   "source": [
    "score = logreg.score(XTest, YTest)\n",
    "print(\"Our regression has an accuracy of %s%%\" % (score*100))\n",
    "\n",
    "\n",
    "preds =  logreg.predict(XTest)\n",
    "corr = 0\n",
    "for o,e in zip(preds,YTest):\n",
    "    if o == e and o == 1:\n",
    "        corr += 1\n",
    "winners = [y for y in YTest if y == 1]\n",
    "losers = [y for y in YTest if y == 0]\n",
    "print (YTest)\n",
    "print(preds)\n",
    "f1 = f1_score(preds, YTest)\n",
    "prec = precision_score(preds, YTest)\n",
    "rec = recall_score(preds, YTest)\n",
    "print(len(winners))\n",
    "print(len(losers))\n",
    "print(\"We predict winners with an accuracy of %s%%\" % ((corr/len(winners))*100))\n",
    "print('F-score: %s | Precision: %s | Recall: %s' % (f1, prec, rec))"
   ]
  },
  {
   "cell_type": "code",
   "execution_count": 73,
   "metadata": {
    "collapsed": false,
    "scrolled": false
   },
   "outputs": [
    {
     "data": {
      "image/png": "[encoded data removed]",
      "text/plain": [
       "<matplotlib.figure.Figure at 0x7f97c2eda5c0>"
      ]
     },
     "metadata": {},
     "output_type": "display_data"
    },
    {
     "name": "stdout",
     "output_type": "stream",
     "text": [
      "Clearly our regression is better at predicting losers\n",
      "Ttest_indResult(statistic=30.723400548708245, pvalue=4.1904652753771655e-52)\n",
      "Perhaps this is simply because losers occur more frequently and we dont have enough data to counter act this trend\n"
     ]
    }
   ],
   "source": [
    "# gets the prediction strength for each row in Test set\n",
    "# sorts predictions by class and box plots them\n",
    "strengths = logreg.predict_proba(XTest)\n",
    "strengthsSorted = [[],[]]\n",
    "for strenM, out in zip (strengths,YTest):\n",
    "    strengthsSorted[out].append(strenM[out])\n",
    "# print(strengthsSorted)\n",
    "plt.boxplot(strengthsSorted, labels=[\"Losers\", \"Winners\"])\n",
    "plt.show()\n",
    "ttestres = stats.ttest_ind(strengthsSorted[0], strengthsSorted[1])\n",
    "print(\"Clearly our regression is better at predicting losers\")\n",
    "print(ttestres)\n",
    "print(\"Perhaps this is simply because losers occur more frequently and we dont have enough data to counter act this trend\")"
   ]
  },
  {
   "cell_type": "code",
   "execution_count": 74,
   "metadata": {
    "collapsed": false
   },
   "outputs": [
    {
     "name": "stdout",
     "output_type": "stream",
     "text": [
      "IMDB Rating: -0.64896111698\n",
      "IMDB Votes: 1.58799472967\n",
      "Tomatometer: 0.754467118992\n",
      "Average Critic Score: 0.457561623516\n",
      "Percent Audience Liked: -1.7253881806\n",
      "Average Audience Score: -0.777578186407\n",
      "[-1.46669904]\n"
     ]
    }
   ],
   "source": [
    "# these are the weights for the models inputs\n",
    "for l,v in zip(fields[5:], logreg.coef_[0]):\n",
    "    print(l+ \": \" + str(v))\n",
    "print(logreg.intercept_)"
   ]
  },
  {
   "cell_type": "code",
   "execution_count": 75,
   "metadata": {
    "collapsed": false,
    "scrolled": false
   },
   "outputs": [
    {
     "data": {
      "image/png": "[encoded data removed]",
      "text/plain": [
       "<matplotlib.figure.Figure at 0x7f97c5f68978>"
      ]
     },
     "metadata": {},
     "output_type": "display_data"
    },
    {
     "name": "stdout",
     "output_type": "stream",
     "text": [
      "IMDB Rating\n",
      "Observations: 512\n",
      "Min: 0.0\n",
      "Max: 1.0\n",
      "Mean: 0.64597486413\n",
      "Median: 0.652173913043\n",
      "Standard Dev: 0.103604592108\n",
      "\n",
      "\n",
      "\n",
      "\n"
     ]
    },
    {
     "data": {
      "image/png": "[encoded data removed]",
      "text/plain": [
       "<matplotlib.figure.Figure at 0x7f97c2d87048>"
      ]
     },
     "metadata": {},
     "output_type": "display_data"
    },
    {
     "name": "stdout",
     "output_type": "stream",
     "text": [
      "Log10 of IMDB Votes\n",
      "Observations: 512\n",
      "Min: 0.0\n",
      "Max: 1.0\n",
      "Mean: 0.619907750684\n",
      "Median: 0.633651276292\n",
      "Standard Dev: 0.217598705018\n",
      "\n",
      "\n",
      "\n",
      "\n"
     ]
    },
    {
     "data": {
      "image/png": "[encoded data removed]",
      "text/plain": [
       "<matplotlib.figure.Figure at 0x7f97c35aa3c8>"
      ]
     },
     "metadata": {},
     "output_type": "display_data"
    },
    {
     "name": "stdout",
     "output_type": "stream",
     "text": [
      "Tomatometer\n",
      "Observations: 512\n",
      "Min: 0.0\n",
      "Max: 1.0\n",
      "Mean: 0.476640423015\n",
      "Median: 0.510707450631\n",
      "Standard Dev: 0.240255905691\n",
      "\n",
      "\n",
      "\n",
      "\n"
     ]
    },
    {
     "data": {
      "image/png": "[encoded data removed]",
      "text/plain": [
       "<matplotlib.figure.Figure at 0x7f97c3049240>"
      ]
     },
     "metadata": {},
     "output_type": "display_data"
    },
    {
     "name": "stdout",
     "output_type": "stream",
     "text": [
      "Average Critic Score\n",
      "Observations: 512\n",
      "Min: 0.0\n",
      "Max: 1.0\n",
      "Mean: 0.695113877119\n",
      "Median: 0.71186440678\n",
      "Standard Dev: 0.155640923064\n",
      "\n",
      "\n",
      "\n",
      "\n"
     ]
    },
    {
     "data": {
      "image/png": "[encoded data removed]",
      "text/plain": [
       "<matplotlib.figure.Figure at 0x7f97c2c72c50>"
      ]
     },
     "metadata": {},
     "output_type": "display_data"
    },
    {
     "name": "stdout",
     "output_type": "stream",
     "text": [
      "Percent Audience Liked\n",
      "Observations: 512\n",
      "Min: 0.0\n",
      "Max: 1.0\n",
      "Mean: 0.520862243756\n",
      "Median: 0.520011680079\n",
      "Standard Dev: 0.176471514217\n",
      "\n",
      "\n",
      "\n",
      "\n"
     ]
    },
    {
     "data": {
      "image/png": "[encoded data removed]",
      "text/plain": [
       "<matplotlib.figure.Figure at 0x7f97c2ec5438>"
      ]
     },
     "metadata": {},
     "output_type": "display_data"
    },
    {
     "name": "stdout",
     "output_type": "stream",
     "text": [
      "Average Audience Score\n",
      "Observations: 512\n",
      "Min: 0.0\n",
      "Max: 1.0\n",
      "Mean: 0.588433159722\n",
      "Median: 0.611111111111\n",
      "Standard Dev: 0.17150959943\n",
      "\n",
      "\n",
      "\n",
      "\n"
     ]
    }
   ],
   "source": [
    "# inputArrs = [[] for i in range(len(X[0]))]\n",
    "# for i in range(len(X[0])):\n",
    "#     inputArrs[i] = [x[i] for x in X]\n",
    "# print(inputArrs)\n",
    "inputArrs = list(np.array(X).T)\n",
    "# for i,x in enumerate(inputArrs[1]):\n",
    "#     if x > 0:\n",
    "#         inputArrs[1][i] = log(x,10)\n",
    "# inputArrs[1] = [log(x,10) for x in inputArrs[1]]\n",
    "\n",
    "for i,arr in enumerate(inputArrs):\n",
    "    plt.hist(arr, label=fields[i+5], range=(0, 1))\n",
    "    plt.show()\n",
    "    if i != 1:\n",
    "        print(fields[i+5])\n",
    "    else:\n",
    "        print(\"Log10 of %s\" % fields[i+5].strip())\n",
    "    desc = stats.describe(arr)\n",
    "    print(\"Observations: %s\" % desc.nobs)\n",
    "    print(\"Min: %s\" % desc.minmax[0])\n",
    "    print(\"Max: %s\" % desc.minmax[1])\n",
    "    print(\"Mean: %s\" % desc.mean)\n",
    "    print(\"Median: %s\" % np.median(arr))\n",
    "    print(\"Standard Dev: %s\" % np.std(arr))\n",
    "    print(\"\\n\")\n",
    "    print(\"\\n\")"
   ]
  },
  {
   "cell_type": "code",
   "execution_count": null,
   "metadata": {
    "collapsed": false
   },
   "outputs": [],
   "source": [
    ""
   ]
  },
  {
   "cell_type": "code",
   "execution_count": null,
   "metadata": {
    "collapsed": true
   },
   "outputs": [],
   "source": [
    ""
   ]
  }
 ],
 "metadata": {
  "anaconda-cloud": {},
  "kernelspec": {
   "display_name": "Python [conda root]",
   "language": "python",
   "name": "conda-root-py"
  },
  "language_info": {
   "codemirror_mode": {
    "name": "ipython",
    "version": 3.0
   },
   "file_extension": ".py",
   "mimetype": "text/x-python",
   "name": "python",
   "nbconvert_exporter": "python",
   "pygments_lexer": "ipython3",
   "version": "3.5.2"
  }
 },
 "nbformat": 4,
 "nbformat_minor": 0
}