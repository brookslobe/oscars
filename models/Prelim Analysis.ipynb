{
 "cells": [
  {
   "cell_type": "code",
   "execution_count": 1,
   "metadata": {
    "collapsed": false
   },
   "outputs": [
    {
     "name": "stdout",
     "output_type": "stream",
     "text": [
      "/home/liam/Repositories/oscars/models\n"
     ]
    }
   ],
   "source": [
    "import pandas as pd\n",
    "import numpy as np\n",
    "from bs4 import BeautifulSoup as bs\n",
    "from urllib import request as rq\n",
    "import urllib\n",
    "import re\n",
    "import math\n",
    "import os\n",
    "import csv\n",
    "import time\n",
    "import json\n",
    "import pickle\n",
    "import sys\n",
    "import requests\n",
    "from scipy import stats\n",
    "from math import log\n",
    "\n",
    "from sklearn.cross_decomposition import PLSRegression\n",
    "from sklearn import linear_model\n",
    "import matplotlib.pyplot as plt\n",
    "cwd = os.getcwd()\n",
    "print(cwd)"
   ]
  },
  {
   "cell_type": "code",
   "execution_count": 2,
   "metadata": {
    "collapsed": false,
    "scrolled": true
   },
   "outputs": [
    {
     "name": "stdout",
     "output_type": "stream",
     "text": [
      "['year', 'Academy Award', 'Winner', 'Movie Name', 'Producer', 'IMDB Rating', 'IMDB Votes', 'Tomatometer', 'Average Critic Score', 'Percent Audience Liked', 'Average Audience Score']\n"
     ]
    },
    {
     "data": {
      "text/plain": [
       "LogisticRegression(C=1.0, class_weight=None, dual=False, fit_intercept=True,\n",
       "          intercept_scaling=1, max_iter=100, multi_class='ovr', n_jobs=1,\n",
       "          penalty='l2', random_state=None, solver='liblinear', tol=0.0001,\n",
       "          verbose=0, warm_start=False)"
      ]
     },
     "execution_count": 2,
     "metadata": {},
     "output_type": "execute_result"
    }
   ],
   "source": [
    "# use AA_bestpictures_Liam_Kimiko_clean.csv\n",
    "datacsv = open(\"../AA_bestpictures_Liam_Kimiko_clean.csv\")\n",
    "reader = list(csv.reader(datacsv, delimiter=',', quotechar='\"'))\n",
    "\n",
    "# print(list(reader))\n",
    "fields = [x.strip() for x in reader.pop(0)]\n",
    "\n",
    "frame = pd.DataFrame(reader, columns=fields)\n",
    "print(fields)\n",
    "X = [[float(x[5].strip()),int(x[6].strip()),int(x[7].strip()),float(x[8].strip()),int(x[9].strip()),float(x[10].strip())] for x in reader]\n",
    "Y = []\n",
    "for x in reader:\n",
    "    ret = 0\n",
    "    if x[2].strip() == \"True\":\n",
    "        ret = 1\n",
    "    Y.append(ret)\n",
    "# for row in reader:\n",
    "#     print (row)\n",
    "\n",
    "XTest = X[-100:]\n",
    "YTest = Y[-100:]\n",
    "XTrain = X[:-100]\n",
    "YTrain = Y[:-100]\n",
    "logreg = linear_model.LogisticRegression()\n",
    "logreg.fit(XTrain, YTrain)\n",
    "\n",
    "# pls = PLSRegression(n_components=3, max_iter=30000)\n",
    "# pls.fit(inputs,outputs)\n",
    "# pred = pls.predict(inputs)\n",
    "# pls.score(inputs,outputs)\n",
    "# # pls.get_params()"
   ]
  },
  {
   "cell_type": "code",
   "execution_count": 3,
   "metadata": {
    "collapsed": false
   },
   "outputs": [
    {
     "data": {
      "text/plain": [
       "DescribeResult(nobs=512, minmax=(array([  3.1,   5. ,  11. ,   3.6,  17. ,   5.4]), array([  1.00000000e+01,   1.72328000e+06,   1.00000000e+02,\n",
       "         9.50000000e+00,   9.80000000e+01,   9.00000000e+00])), mean=array([  7.55722656e+00,   1.11748066e+05,   8.71875000e+01,\n",
       "         7.70117187e+00,   8.06777344e+01,   7.51835937e+00]), variance=array([  5.12041608e-01,   4.56815351e+10,   1.82990215e+02,\n",
       "         8.44890992e-01,   1.75424317e+02,   3.81971471e-01]), skewness=array([-1.67949751,  3.09008297, -2.17639506, -0.83171907, -1.85023786,\n",
       "       -0.53055206]), kurtosis=array([  7.69090486,  11.80190217,   6.27310705,   1.10075016,\n",
       "         4.22542336,   0.25257676]))"
      ]
     },
     "execution_count": 3,
     "metadata": {},
     "output_type": "execute_result"
    }
   ],
   "source": [
    "# print(StatsOnly)\n",
    "stats.describe(X)"
   ]
  },
  {
   "cell_type": "code",
   "execution_count": null,
   "metadata": {
    "collapsed": false
   },
   "outputs": [],
   "source": [
    ""
   ]
  },
  {
   "cell_type": "code",
   "execution_count": 4,
   "metadata": {
    "collapsed": false
   },
   "outputs": [
    {
     "name": "stdout",
     "output_type": "stream",
     "text": [
      "Our regression has an accuracy of 81.0%\n",
      "15\n",
      "85\n",
      "We predict winners with an accuracy of 6.666666666666667%\n"
     ]
    }
   ],
   "source": [
    "score = logreg.score(XTest, YTest)\n",
    "print(\"Our regression has an accuracy of %s%%\" % (score*100))\n",
    "\n",
    "\n",
    "preds =  logreg.predict(XTest)\n",
    "corr = 0\n",
    "for o,e in zip(preds,YTest):\n",
    "    if o == e and o == 1:\n",
    "        corr += 1\n",
    "winners = [y for y in YTest if y == 1]\n",
    "losers = [y for y in YTest if y == 0]\n",
    "print(len(winners))\n",
    "print(len(losers))\n",
    "print(\"We predict winners with an accuracy of %s%%\" % ((corr/len(winners))*100))"
   ]
  },
  {
   "cell_type": "code",
   "execution_count": 5,
   "metadata": {
    "collapsed": false,
    "scrolled": false
   },
   "outputs": [
    {
     "data": {
      "image/png": "[encoded data removed]",
      "text/plain": [
       "<matplotlib.figure.Figure at 0x7ffa596f5b70>"
      ]
     },
     "metadata": {},
     "output_type": "display_data"
    },
    {
     "name": "stdout",
     "output_type": "stream",
     "text": [
      "Clearly our regression is better at predicting losers\n",
      "Ttest_indResult(statistic=15.040930883530796, pvalue=3.3098337033431009e-27)\n",
      "Perhaps this is simply because losers occur more frequently and we dont have enough data to counter act this trend\n"
     ]
    }
   ],
   "source": [
    "# gets the prediction strength for each row in Test set\n",
    "# sorts predictions by class and box plots them\n",
    "strengths = logreg.predict_proba(XTest)\n",
    "strengthsSorted = [[],[]]\n",
    "for strenM, out in zip (strengths,YTest):\n",
    "    strengthsSorted[out].append(strenM[out])\n",
    "# print(strengthsSorted)\n",
    "plt.boxplot(strengthsSorted, labels=[\"Losers\", \"Winners\"])\n",
    "plt.show()\n",
    "ttestres = stats.ttest_ind(strengthsSorted[0], strengthsSorted[1])\n",
    "print(\"Clearly our regression is better at predicting losers\")\n",
    "print(ttestres)\n",
    "print(\"Perhaps this is simply because losers occur more frequently and we dont have enough data to counter act this trend\")"
   ]
  },
  {
   "cell_type": "code",
   "execution_count": 6,
   "metadata": {
    "collapsed": false
   },
   "outputs": [
    {
     "name": "stdout",
     "output_type": "stream",
     "text": [
      "IMDB Rating: -0.000956738984608\n",
      "IMDB Votes: 2.35836775855e-06\n",
      "Tomatometer: -0.0110434724646\n",
      "Average Critic Score: -0.000932249067639\n",
      "Percent Audience Liked: -0.00975224139409\n",
      "Average Audience Score: -0.000951346002073\n",
      "[-0.00013117]\n"
     ]
    }
   ],
   "source": [
    "# these are the weights for the models inputs\n",
    "for l,v in zip(fields[5:], logreg.coef_[0]):\n",
    "    print(l+ \": \" + str(v))\n",
    "print(logreg.intercept_)"
   ]
  },
  {
   "cell_type": "code",
   "execution_count": 7,
   "metadata": {
    "collapsed": false,
    "scrolled": false
   },
   "outputs": [
    {
     "data": {
      "image/png": "[encoded data removed]",
      "text/plain": [
       "<matplotlib.figure.Figure at 0x7ffa573fff28>"
      ]
     },
     "metadata": {},
     "output_type": "display_data"
    },
    {
     "name": "stdout",
     "output_type": "stream",
     "text": [
      "IMDB Rating\n",
      "Observations: 512\n",
      "Min: 3.1\n",
      "Max: 10.0\n",
      "Mean: 7.5572265625\n",
      "Median: 7.6\n",
      "Standard Dev: 0.714871685545\n",
      "\n",
      "\n",
      "\n",
      "\n"
     ]
    },
    {
     "data": {
      "image/png": "[encoded data removed]",
      "text/plain": [
       "<matplotlib.figure.Figure at 0x7ffa56c42a90>"
      ]
     },
     "metadata": {},
     "output_type": "display_data"
    },
    {
     "name": "stdout",
     "output_type": "stream",
     "text": [
      "Log10 of IMDB Votes\n",
      "Observations: 512\n",
      "Min: 0.698970004336\n",
      "Max: 6.23635584772\n",
      "Mean: 4.13163840718\n",
      "Median: 4.20774161131\n",
      "Standard Dev: 1.2049279887\n",
      "\n",
      "\n",
      "\n",
      "\n"
     ]
    },
    {
     "data": {
      "image/png": "[encoded data removed]",
      "text/plain": [
       "<matplotlib.figure.Figure at 0x7ffa56b4eb00>"
      ]
     },
     "metadata": {},
     "output_type": "display_data"
    },
    {
     "name": "stdout",
     "output_type": "stream",
     "text": [
      "Tomatometer\n",
      "Observations: 512\n",
      "Min: 11\n",
      "Max: 100\n",
      "Mean: 87.1875\n",
      "Median: 91.0\n",
      "Standard Dev: 13.5141708033\n",
      "\n",
      "\n",
      "\n",
      "\n"
     ]
    },
    {
     "data": {
      "image/png": "[encoded data removed]",
      "text/plain": [
       "<matplotlib.figure.Figure at 0x7ffa56ad1940>"
      ]
     },
     "metadata": {},
     "output_type": "display_data"
    },
    {
     "name": "stdout",
     "output_type": "stream",
     "text": [
      "Average Critic Score\n",
      "Observations: 512\n",
      "Min: 3.6\n",
      "Max: 9.5\n",
      "Mean: 7.701171875\n",
      "Median: 7.8\n",
      "Standard Dev: 0.918281446077\n",
      "\n",
      "\n",
      "\n",
      "\n"
     ]
    },
    {
     "data": {
      "image/png": "[encoded data removed]",
      "text/plain": [
       "<matplotlib.figure.Figure at 0x7ffa56ac7be0>"
      ]
     },
     "metadata": {},
     "output_type": "display_data"
    },
    {
     "name": "stdout",
     "output_type": "stream",
     "text": [
      "Percent Audience Liked\n",
      "Observations: 512\n",
      "Min: 17\n",
      "Max: 98\n",
      "Mean: 80.677734375\n",
      "Median: 84.0\n",
      "Standard Dev: 13.2318438527\n",
      "\n",
      "\n",
      "\n",
      "\n"
     ]
    },
    {
     "data": {
      "image/png": "[encoded data removed]",
      "text/plain": [
       "<matplotlib.figure.Figure at 0x7ffa569cd908>"
      ]
     },
     "metadata": {},
     "output_type": "display_data"
    },
    {
     "name": "stdout",
     "output_type": "stream",
     "text": [
      "Average Audience Score\n",
      "Observations: 512\n",
      "Min: 5.4\n",
      "Max: 9.0\n",
      "Mean: 7.518359375\n",
      "Median: 7.6\n",
      "Standard Dev: 0.617434557949\n",
      "\n",
      "\n",
      "\n",
      "\n"
     ]
    }
   ],
   "source": [
    "inputArrs = [[] for i in range(len(X[0]))]\n",
    "for i in range(len(X[0])):\n",
    "    inputArrs[i] = [x[i] for x in X]\n",
    "# print(inputArrs)\n",
    "for i,x in enumerate(inputArrs[1]):\n",
    "    if x > 0:\n",
    "        inputArrs[1][i] = log(x,10)\n",
    "# inputArrs[1] = [log(x,10) for x in inputArrs[1]]\n",
    "\n",
    "for i,arr in enumerate(inputArrs):\n",
    "    \n",
    "    plt.hist(arr, label=fields[i+5], range=(0, 10))\n",
    "    plt.show()\n",
    "    if i != 1:\n",
    "        print(fields[i+5])\n",
    "    else:\n",
    "        print(\"Log10 of %s\" % fields[i+5].strip())\n",
    "    desc = stats.describe(arr)\n",
    "    print(\"Observations: %s\" % desc.nobs)\n",
    "    print(\"Min: %s\" % desc.minmax[0])\n",
    "    print(\"Max: %s\" % desc.minmax[1])\n",
    "    print(\"Mean: %s\" % desc.mean)\n",
    "    print(\"Median: %s\" % np.median(arr))\n",
    "    print(\"Standard Dev: %s\" % np.std(arr))\n",
    "    print(\"\\n\")\n",
    "    print(\"\\n\")"
   ]
  },
  {
   "cell_type": "code",
   "execution_count": null,
   "metadata": {
    "collapsed": false
   },
   "outputs": [],
   "source": [
    ""
   ]
  },
  {
   "cell_type": "code",
   "execution_count": null,
   "metadata": {
    "collapsed": true
   },
   "outputs": [],
   "source": [
    ""
   ]
  }
 ],
 "metadata": {
  "anaconda-cloud": {},
  "kernelspec": {
   "display_name": "Python [conda root]",
   "language": "python",
   "name": "conda-root-py"
  },
  "language_info": {
   "codemirror_mode": {
    "name": "ipython",
    "version": 3.0
   },
   "file_extension": ".py",
   "mimetype": "text/x-python",
   "name": "python",
   "nbconvert_exporter": "python",
   "pygments_lexer": "ipython3",
   "version": "3.5.2"
  }
 },
 "nbformat": 4,
 "nbformat_minor": 0
}