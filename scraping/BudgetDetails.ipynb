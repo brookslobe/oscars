{
 "cells": [
  {
   "cell_type": "code",
   "execution_count": 47,
   "metadata": {
    "collapsed": false
   },
   "outputs": [
    {
     "name": "stdout",
     "output_type": "stream",
     "text": [
      "/home/liam/Documents/info370\n"
     ]
    }
   ],
   "source": [
    "import pandas as pd\n",
    "import numpy as np\n",
    "from bs4 import BeautifulSoup as bs\n",
    "from urllib import request as rq\n",
    "import urllib\n",
    "import re\n",
    "import math\n",
    "import os\n",
    "import csv\n",
    "import time\n",
    "import json\n",
    "import pickle\n",
    "import html5lib\n",
    "import sys\n",
    "from sklearn.cross_decomposition import PLSRegression\n",
    "import matplotlib.pyplot as plt\n",
    "cwd = os.getcwd()\n",
    "print(cwd)\n"
   ]
  },
  {
   "cell_type": "code",
   "execution_count": 50,
   "metadata": {
    "collapsed": false
   },
   "outputs": [],
   "source": [
    "f = open(\"moviebudget2.html\", \"r\") \n",
    "df = pd.read_html(f, index_col=0,header=0, thousands=\"\")\n",
    "csv = pd.read_csv(open(\"AA_bestpictures_Liam_Kimiko.csv\",'r'),delimiter=\";\")\n",
    "df = df[0]\n",
    "\n",
    "nosign = lambda x: ''.join(x[1:].split(\",\"))\n",
    "\n",
    "df['Production Budget'] = pd.to_numeric(df['Production Budget'].apply(nosign))\n",
    "df['Domestic Gross'] = pd.to_numeric(df['Domestic Gross'].apply(nosign))\n",
    "df['Worldwide Gross'] = pd.to_numeric(df['Worldwide Gross'].apply(nosign))\n",
    "\n",
    "# removes the spaces at the front of each cell\n",
    "csv[\"Movie Name\"] = csv[\"Movie Name\"].apply(nosign)\n",
    "csv[\"Academy Award\"] = csv[\"Academy Award\"].apply(nosign)\n",
    "csv[\"Winner\"] = csv[\"Winner\"].apply(nosign)\n",
    "csv[\"Producer\"] = csv[\"Producer\"].apply(nosign)"
   ]
  },
  {
   "cell_type": "code",
   "execution_count": 51,
   "metadata": {
    "collapsed": false
   },
   "outputs": [],
   "source": [
    "csv = csv.merge(df,how='left',left_on='Movie Name', right_on='Movie')"
   ]
  },
  {
   "cell_type": "code",
   "execution_count": 52,
   "metadata": {
    "collapsed": false
   },
   "outputs": [
    {
     "name": "stdout",
     "output_type": "stream",
     "text": [
      "['year', 'Academy Award', 'Winner', 'Movie Name', 'Producer', 'IMDB Rating', 'IMDB Votes', 'Tomatometer', 'Average Critic Score', 'Percent Audience Liked', 'Average Audience Score', 'Release Date', 'Movie', 'Production Budget', 'Domestic Gross', 'Worldwide Gross']\n"
     ]
    }
   ],
   "source": [
    "print(list(csv.columns.values))\n",
    "caches = []"
   ]
  },
  {
   "cell_type": "code",
   "execution_count": 55,
   "metadata": {
    "collapsed": false,
    "scrolled": true
   },
   "outputs": [
    {
     "name": "stdout",
     "output_type": "stream",
     "text": [
      "3300000.0\n"
     ]
    }
   ],
   "source": [
    "user_agent = 'Mozilla/5.0 (Windows; U; Windows NT 5.1; en-US; rv:1.9.0.7) Gecko/2009021910 Firefox/3.0.7'\n",
    "headers={'User-Agent':user_agent,} \n",
    "missing2 = []\n",
    "gsearch = \"http://www.google.com/search?q=site:www.imdb.com+\"\n",
    "csv = csv.sort_values('year',ascending=False)\n",
    "for i, row in enumerate(csv.values):\n",
    "    print(row[13])\n",
    "    break\n",
    "    if math.isnan(row[13]) or math.isnan(row[15]):\n",
    "#         print(csv.iloc[i])\n",
    "        print(row)\n",
    "        e = False\n",
    "        mname = str(row[3]).replace(\"é\",\"e\")\n",
    "        myear = str(row[0])\n",
    "        url = gsearch+mname.replace(\" \",\"+\") + \"+\"+ myear\n",
    "        print(url)\n",
    "        request=urllib.request.Request(url,None,headers) #The assembled request\n",
    "        response = urllib.request.urlopen(request)\n",
    "        data = response.read() # The data u need\n",
    "        soup2 = bs(data, 'html.parser')\n",
    "#         print(data)\n",
    "#         print(soup2)\n",
    "        firstres = soup2.find(\"div\", id=\"search\").find_all(\"div\", class_=\"g\")[0]\n",
    "#         print(firstres)\n",
    "#         break\n",
    "        imdblink = firstres.find(\"cite\").contents[0]\n",
    "        parts = imdblink.split(\"/\")\n",
    "        if parts[0] == \"www.imdb.com\" and parts[1] =='title':\n",
    "            imdblink = \"/\".join(parts[:3])\n",
    "            print(imdblink)\n",
    "            \n",
    "            cache = None\n",
    "            links = firstres.find_all(\"a\")\n",
    "            for link in links:\n",
    "                if link.contents[0] == \"Cached\":\n",
    "                    cache = link['href']\n",
    "#                     print(cache)\n",
    "                    cache = \"https://www.google.com\"+cache\n",
    "#                     print(cache)\n",
    "            if cache == None:\n",
    "                missing2.append([mname, myear,\"No Cache\"])\n",
    "                print(\"NO CACHE\")\n",
    "            else:\n",
    "                time.sleep(2)\n",
    "                request2=urllib.request.Request(cache,None,headers) #The assembled request\n",
    "                response2 = urllib.request.urlopen(request2)\n",
    "                datacache = response2.read() # The data u need\n",
    "                soupcache = bs(datacache, 'html.parser')\n",
    "                details = soupcache.find(\"div\", {\"id\":\"titleDetails\"})\n",
    "                if not details:\n",
    "                    missing2.append([mname, myear,\"No Details\"])\n",
    "                    print(\"NO DETAILS\")\n",
    "\n",
    "#                 print(details)\n",
    "                details = details.get_text()\n",
    "#                 print(details)\n",
    "                budget = row[-3]\n",
    "                gross = row[-1]\n",
    "                for item in details.split(\"\\n\"):\n",
    "                    if \"Budget\" in item:\n",
    "                        try:\n",
    "                            budget = item.split(\"$\")[1].strip().replace(\",\", \"\")\n",
    "                        except IndexError: \n",
    "                            budget = item.split(\"£\")[1].strip().replace(\",\", \"\")\n",
    "                    if \"Gross\" in item:\n",
    "                        try:\n",
    "                            gross = item.split(\"$\")[1].strip().replace(\",\", \"\")\n",
    "                        except IndexError: \n",
    "                            gross = item.split(\"£\")[1].strip().replace(\",\", \"\")\n",
    "                print(budget)\n",
    "                print(gross)\n",
    "                if budget or gross:\n",
    "                    row[15] = float(gross)\n",
    "                    row[13] = float(budget)\n",
    "                    print(row)\n",
    "                    csv.iloc[i] = row\n",
    "                    print(csv.iloc[i])\n",
    "                else:\n",
    "                    print(\"NO Box Office Info\")\n",
    "            \n",
    "        else:\n",
    "            print(\"Wasn't first link!\")\n",
    "            missing2.append([mname, myear,\"Wasn't first link!\"])\n",
    "        time.sleep(2)\n",
    "#     break\n",
    "csv['Return on Investment'] = csv['Worldwide Gross'].div(csv['Production Budget'])\n",
    "w = open('AA_4.csv', 'w')\n",
    "csv.to_csv(w, index=False)\n",
    "w.close()"
   ]
  },
  {
   "cell_type": "code",
   "execution_count": 45,
   "metadata": {
    "collapsed": false
   },
   "outputs": [],
   "source": [
    "csv['Return on Investment'] = csv['Worldwide Gross'].div(csv['Production Budget'])"
   ]
  },
  {
   "cell_type": "code",
   "execution_count": 46,
   "metadata": {
    "collapsed": false
   },
   "outputs": [],
   "source": [
    "w = open('AA_3.csv', 'w')\n",
    "csv.to_csv(w, index=False)\n",
    "w.close()"
   ]
  },
  {
   "cell_type": "code",
   "execution_count": null,
   "metadata": {
    "collapsed": true
   },
   "outputs": [],
   "source": []
  }
 ],
 "metadata": {
  "anaconda-cloud": {},
  "kernelspec": {
   "display_name": "Python [conda root]",
   "language": "python",
   "name": "conda-root-py"
  },
  "language_info": {
   "codemirror_mode": {
    "name": "ipython",
    "version": 3
   },
   "file_extension": ".py",
   "mimetype": "text/x-python",
   "name": "python",
   "nbconvert_exporter": "python",
   "pygments_lexer": "ipython3",
   "version": "3.5.2"
  }
 },
 "nbformat": 4,
 "nbformat_minor": 1
}
